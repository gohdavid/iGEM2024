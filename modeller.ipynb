{
 "cells": [
  {
   "cell_type": "code",
   "execution_count": 1,
   "metadata": {},
   "outputs": [
    {
     "data": {
      "application/vnd.jupyter.widget-view+json": {
       "model_id": "99a622b3a3c04bb4b2ec621f1f95f5be",
       "version_major": 2,
       "version_minor": 0
      },
      "text/plain": []
     },
     "metadata": {},
     "output_type": "display_data"
    }
   ],
   "source": [
    "from openmm import app as app\n",
    "from openmm import unit as unit\n",
    "import nglview as nv\n",
    "from pathlib import Path\n",
    "import numpy as np\n",
    "import mdtraj as md\n",
    "root = Path(\"/home/gridsan/ddavid/MD/\")"
   ]
  },
  {
   "cell_type": "code",
   "execution_count": null,
   "metadata": {},
   "outputs": [],
   "source": [
    "def process(input,output):\n",
    "    pdb = app.PDBFile(input)\n",
    "\n",
    "    modeller = app.Modeller(pdb.topology, pdb.positions)\n",
    "\n",
    "    forcefield = app.ForceField('amber14/protein.ff14SB.xml','amber14/tip3p.xml')\n",
    "\n",
    "    # Add hydrogen atoms at pH 7.4 (default pH is 7.0)\n",
    "    modeller.addHydrogens(forcefield, pH=7.4)\n",
    "\n",
    "    modeller.addSolvent(forcefield, model='tip3p', ionicStrength=0.15*unit.molar, neutralize=True, padding=1.0*unit.nanometers)\n",
    "\n",
    "    with open(output, 'w') as file:\n",
    "        app.PDBFile.writeFile(modeller.topology, modeller.positions, file)\n",
    "    print(f\"Modified system saved to: {output}\")"
   ]
  },
  {
   "cell_type": "code",
   "execution_count": null,
   "metadata": {},
   "outputs": [],
   "source": [
    "def rotate_positions(positions, angle, axis='z'):\n",
    "    \"\"\"Rotate positions around a specified axis by a given angle.\"\"\"\n",
    "    if axis == 'z':\n",
    "        rotation_matrix = np.array([[np.cos(angle), -np.sin(angle), 0],\n",
    "                                    [np.sin(angle), np.cos(angle), 0],\n",
    "                                    [0, 0, 1]])\n",
    "    elif axis == 'y':\n",
    "        rotation_matrix = np.array([[np.cos(angle), 0, np.sin(angle)],\n",
    "                                    [0, 1, 0],\n",
    "                                    [-np.sin(angle), 0, np.cos(angle)]])\n",
    "    elif axis == 'x':\n",
    "        rotation_matrix = np.array([[1, 0, 0],\n",
    "                                    [0, np.cos(angle), -np.sin(angle)],\n",
    "                                    [0, np.sin(angle), np.cos(angle)]])\n",
    "    else:\n",
    "        raise ValueError(\"Axis must be 'x', 'y', or 'z'\")\n",
    "\n",
    "    rotated_positions = np.dot(positions, rotation_matrix)\n",
    "    return rotated_positions"
   ]
  },
  {
   "cell_type": "markdown",
   "metadata": {},
   "source": [
    "# Single HRT"
   ]
  },
  {
   "cell_type": "code",
   "execution_count": null,
   "metadata": {},
   "outputs": [],
   "source": [
    "# Load PDB\n",
    "process((root/\"PDBs/HRT.pdb\").as_posix(),(root / \"PDBs/HRT_Single.pdb\").as_posix())"
   ]
  },
  {
   "cell_type": "code",
   "execution_count": null,
   "metadata": {},
   "outputs": [],
   "source": [
    "v = nv.show_file(\"/home/gridsan/ddavid/MD/PDBs/HRT_Single.pdb\")\n",
    "v.clear()\n",
    "v.add_cartoon()\n",
    "v.add_licorice(\"HOH\")\n",
    "v"
   ]
  },
  {
   "cell_type": "markdown",
   "metadata": {},
   "source": [
    "# Double HRT"
   ]
  },
  {
   "cell_type": "code",
   "execution_count": null,
   "metadata": {},
   "outputs": [],
   "source": [
    "# Load PDB\n",
    "pdb = app.PDBFile((root/\"PDBs/HRT.pdb\").as_posix())\n",
    "\n",
    "modeller = app.Modeller(pdb.topology, pdb.positions)\n",
    "\n",
    "forcefield = app.ForceField('amber14/protein.ff14SB.xml','amber14/tip3p.xml')\n",
    "\n",
    "pdb2_positions_np = np.array([list(atom_pos.value_in_unit(unit.nanometers)) for atom_pos in pdb.positions])\n",
    "rotated_positions_np = rotate_positions(pdb2_positions_np, np.pi, axis='x')\n",
    "rotated_positions_np = rotate_positions(rotated_positions_np, np.pi/4, axis='y')\n",
    "translated_positions_np = rotated_positions_np + np.array([2, 2, -6])\n",
    "modeller.add(pdb.topology, translated_positions_np * unit.nanometers)\n",
    "\n",
    "# Add hydrogen atoms at pH 7.4 (default pH is 7.0)\n",
    "modeller.addHydrogens(forcefield, pH=7.4)\n",
    "\n",
    "modeller.addSolvent(forcefield, model='tip3p', ionicStrength=0.15*unit.molar, neutralize=True, padding=1.0*unit.nanometers)\n",
    "\n",
    "\n",
    "output_pdb_path = (root / \"PDBs/HRT_Double.pdb\").as_posix()\n",
    "with open(output_pdb_path, 'w') as file:\n",
    "    app.PDBFile.writeFile(modeller.topology, modeller.positions, file)\n",
    "print(f\"Modified system saved to: {output_pdb_path}\")"
   ]
  },
  {
   "cell_type": "code",
   "execution_count": null,
   "metadata": {},
   "outputs": [],
   "source": [
    "v = nv.show_file(\"/home/gridsan/ddavid/MD/PDBs/HRT_Double.pdb\")\n",
    "v.clear()\n",
    "v.add_spacefill()\n",
    "# v.add_point(\"HOH\")\n",
    "v"
   ]
  },
  {
   "cell_type": "markdown",
   "metadata": {},
   "source": [
    "# Single PhaC\n"
   ]
  },
  {
   "cell_type": "code",
   "execution_count": null,
   "metadata": {},
   "outputs": [],
   "source": [
    "process((root/\"PDBs/PhaC.pdb\").as_posix(),(root / \"PDBs/Phac_Single.pdb\").as_posix())"
   ]
  },
  {
   "cell_type": "code",
   "execution_count": null,
   "metadata": {},
   "outputs": [],
   "source": [
    "v = nv.show_file((root / \"PDBs/Phac_Single.pdb\").as_posix())\n",
    "v.clear()\n",
    "v.add_cartoon()\n",
    "v"
   ]
  },
  {
   "cell_type": "markdown",
   "metadata": {},
   "source": [
    "# Two PhaC\n"
   ]
  },
  {
   "cell_type": "code",
   "execution_count": 7,
   "metadata": {},
   "outputs": [
    {
     "name": "stdout",
     "output_type": "stream",
     "text": [
      "Modified system saved to: /home/gridsan/ddavid/MD/PDBs/Phac_Double.pdb\n"
     ]
    }
   ],
   "source": [
    "# Load PDB\n",
    "pdb = app.PDBFile((root/\"PDBs/PhaC.pdb\").as_posix())\n",
    "\n",
    "modeller = app.Modeller(pdb.topology, pdb.positions)\n",
    "\n",
    "forcefield = app.ForceField('amber14/protein.ff14SB.xml','amber14/tip3p.xml')\n",
    "\n",
    "pdb2_positions_np = np.array([list(atom_pos.value_in_unit(unit.nanometers)) for atom_pos in pdb.positions])\n",
    "rotated_positions_np = rotate_positions(pdb2_positions_np, np.pi, axis='x')\n",
    "rotated_positions_np = rotate_positions(rotated_positions_np, np.pi/4, axis='y')\n",
    "translated_positions_np = rotated_positions_np + np.array([2, 2, -8])\n",
    "modeller.add(pdb.topology, translated_positions_np * unit.nanometers)\n",
    "\n",
    "# Add hydrogen atoms at pH 7.4 (default pH is 7.0)\n",
    "# modeller.addHydrogens(forcefield, pH=7.4)\n",
    "\n",
    "# modeller.addSolvent(forcefield, model='tip3p', ionicStrength=0.15*unit.molar, neutralize=True, padding=1.0*unit.nanometers)\n",
    "\n",
    "\n",
    "output_pdb_path = (root / \"PDBs/Phac_Double.pdb\").as_posix()\n",
    "with open(output_pdb_path, 'w') as file:\n",
    "    app.PDBFile.writeFile(modeller.topology, modeller.positions, file)\n",
    "print(f\"Modified system saved to: {output_pdb_path}\")"
   ]
  },
  {
   "cell_type": "code",
   "execution_count": 8,
   "metadata": {},
   "outputs": [
    {
     "data": {
      "application/vnd.jupyter.widget-view+json": {
       "model_id": "e665397c98e948ea866dbde2689a6197",
       "version_major": 2,
       "version_minor": 0
      },
      "text/plain": [
       "NGLWidget()"
      ]
     },
     "metadata": {},
     "output_type": "display_data"
    }
   ],
   "source": [
    "v = nv.show_file((root / \"PDBs/Phac_Double.pdb\").as_posix())\n",
    "v.clear()\n",
    "v.add_cartoon()\n",
    "v"
   ]
  }
 ],
 "metadata": {
  "kernelspec": {
   "display_name": "Python [conda env:md]",
   "language": "python",
   "name": "conda-env-md-py"
  },
  "language_info": {
   "codemirror_mode": {
    "name": "ipython",
    "version": 3
   },
   "file_extension": ".py",
   "mimetype": "text/x-python",
   "name": "python",
   "nbconvert_exporter": "python",
   "pygments_lexer": "ipython3",
   "version": "3.10.14"
  }
 },
 "nbformat": 4,
 "nbformat_minor": 2
}
